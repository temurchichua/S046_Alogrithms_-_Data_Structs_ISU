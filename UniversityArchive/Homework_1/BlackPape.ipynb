{
 "cells": [
  {
   "cell_type": "code",
   "execution_count": null,
   "outputs": [],
   "source": [
    "import sympy as sym\n",
    "from random import randint\n",
    "\n",
    "x = sym.symbols('x')\n",
    "\n",
    "coefficient = sym.symbols('a')\n",
    "\n",
    "def horners_rule_with_for(n):\n",
    "  if n == 0:\n",
    "    return\n",
    "\n",
    "\n",
    "coefficients = [ for _ in range(5)]\n",
    "x"
   ],
   "metadata": {
    "collapsed": false
   }
  }
 ],
 "metadata": {
  "kernelspec": {
   "display_name": "Python 3",
   "language": "python",
   "name": "python3"
  },
  "language_info": {
   "codemirror_mode": {
    "name": "ipython",
    "version": 2
   },
   "file_extension": ".py",
   "mimetype": "text/x-python",
   "name": "python",
   "nbconvert_exporter": "python",
   "pygments_lexer": "ipython2",
   "version": "2.7.6"
  }
 },
 "nbformat": 4,
 "nbformat_minor": 0
}
