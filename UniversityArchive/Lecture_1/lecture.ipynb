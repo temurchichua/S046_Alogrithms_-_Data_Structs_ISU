{
 "cells": [
  {
   "cell_type": "markdown",
   "source": [
    "<h3 align=\"center\">Insertion-Sort Example</h3>\n",
    "\n",
    "- For example, lets consider the array $A = \\left \\langle 5, 2, 4, 6, 1, 3 \\right \\rangle$.\n",
    "\n",
    "- The operation of **Insertion-Sort** will work as follows:\n",
    "\n",
    "<center><img src=\"insertion_sort.png\" width=\"1000\" alt=\"Example\" /></center>\n",
    "\n",
    "- Here:\n",
    "  - Array indices are shown above the rectangle;\n",
    "  - Values stored in array positions are shown in rectangles."
   ],
   "metadata": {
    "collapsed": false
   }
  },
  {
   "cell_type": "code",
   "execution_count": 51,
   "outputs": [],
   "source": [
    "from utils import log"
   ],
   "metadata": {
    "collapsed": false
   }
  },
  {
   "cell_type": "code",
   "execution_count": 37,
   "metadata": {
    "collapsed": true
   },
   "outputs": [],
   "source": [
    "def sort_insertion(unordered_list: list[int | float]) -> list[int | float]:\n",
    "    \"\"\"\n",
    "    Orders the list of numbers using insertion sort algorithm.\n",
    "    :param unordered_list: list of unordered numbers\n",
    "    \"\"\"\n",
    "\n",
    "    size = len(unordered_list)\n",
    "\n",
    "    # if the list empty or contains one member returns the same list\n",
    "    if size <= 1:\n",
    "        return unordered_list\n",
    "\n",
    "    # For every number in and list starting from the second\n",
    "    for cursor in range(1, size):\n",
    "        current_number = unordered_list[cursor]\n",
    "        # unordered_list[cursor - 1] represents the number standing to the left of the current_number\n",
    "        while cursor > 0 and current_number < unordered_list[cursor - 1]:\n",
    "            # replace number at current position with the number from it's left side\n",
    "            unordered_list[cursor] = unordered_list[cursor-1]\n",
    "            # consider that even if we overwrite the taken number in the list we still have it stored\n",
    "            # temporarily inside the current_number variable\n",
    "            cursor -= 1 # reduce the cursor position by one\n",
    "\n",
    "        unordered_list[cursor] = current_number"
   ]
  },
  {
   "cell_type": "code",
   "execution_count": 54,
   "outputs": [
    {
     "name": "stderr",
     "output_type": "stream",
     "text": [
      "2022-10-02 15:10:55,913 - INFO - Unordered list: [5, 2, 4, 6, 1, 3]\n",
      "2022-10-02 15:10:55,916 - INFO - Ordered list: [1, 2, 3, 4, 5, 6]\n"
     ]
    }
   ],
   "source": [
    "list_of_numbers = [5, 2, 4, 6, 1, 3]\n",
    "\n",
    "log(f\"Unordered list: {list_of_numbers}\")\n",
    "\n",
    "sort_insertion(list_of_numbers)\n",
    "log(f\"Ordered list: {list_of_numbers}\")"
   ],
   "metadata": {
    "collapsed": false
   }
  },
  {
   "cell_type": "markdown",
   "source": [
    "<h3 align=\"center\">Selection-Sort Example</h3>\n",
    "\n",
    "- Lets consider the linked list $A = \\left \\langle 5, 2, 4, 6, 1, 3 \\right \\rangle$.\n",
    "\n",
    "- The operation of **Insertion-Sort** will work as follows:\n",
    "\n",
    "<center><img src=\"https://drive.google.com/uc?export=view&id=1w_7BGo5Pfp6CjdmRrpSWb5nUeDKiW-zQ\" width=\"1500\" alt=\"Example\" /></center>\n",
    "\n",
    "- Here:\n",
    "  - Linked list indices are shown above the rectangles for cards on table and in the left hand;\n",
    "  - Values stored in the linked list positions are shown in rectangles."
   ],
   "metadata": {
    "collapsed": false
   }
  },
  {
   "cell_type": "code",
   "execution_count": 62,
   "outputs": [],
   "source": [
    "def find_min_value_index(list_of_num: list[int | float]) -> int:\n",
    "    \"\"\"\n",
    "    Searches for the index of the smallest number\n",
    "\n",
    "    :param list_of_num: list of numbers\n",
    "    :return: index of the smallest number\n",
    "    \"\"\"\n",
    "\n",
    "    size = len(list_of_num)\n",
    "\n",
    "    if size == 0:\n",
    "        raise ValueError(\"Can't find the minimum value from an empty list\")\n",
    "    if size == 1:\n",
    "        return 0\n",
    "\n",
    "    min_index = 0\n",
    "    min_value = list_of_num[min_index]\n",
    "    for index in range(1, size):\n",
    "        if list_of_num[index] < min_value:\n",
    "            min_value = list_of_num[index]\n",
    "            min_index = index\n",
    "    return min_index"
   ],
   "metadata": {
    "collapsed": false
   }
  },
  {
   "cell_type": "code",
   "execution_count": 56,
   "outputs": [
    {
     "name": "stderr",
     "output_type": "stream",
     "text": [
      "2022-10-02 15:12:17,983 - INFO - Unordered list: [5, 2, 4, 6, 1, 3]\n",
      "2022-10-02 15:12:17,984 - INFO - Index of the Minimal Value: 4\n"
     ]
    }
   ],
   "source": [
    "list_of_numbers = [5, 2, 4, 6, 1, 3]\n",
    "\n",
    "min_val = find_min_value_index(list_of_numbers)\n",
    "\n",
    "log(f\"Unordered list: {list_of_numbers}\")\n",
    "log(f\"Index of the Minimal Value: {min_val}\")"
   ],
   "metadata": {
    "collapsed": false
   }
  },
  {
   "cell_type": "code",
   "execution_count": 63,
   "outputs": [
    {
     "name": "stderr",
     "output_type": "stream",
     "text": [
      "2022-10-02 15:16:16,285 - INFO - Unordered list: [5, 2, 4, 6, 1, 3]\n",
      "2022-10-02 15:16:16,288 - INFO - Ordered list: [1, 2, 3, 4, 5, 6]\n"
     ]
    }
   ],
   "source": [
    "def sort_selection(unordered_list: list[int | float]) -> list[int | float]:\n",
    "    \"\"\"\n",
    "    Orders the list of numbers using selection sort algorithm.\n",
    "    :param unordered_list: list of unordered numbers\n",
    "    :return: list of numbers ordered in ascending\n",
    "    \"\"\"\n",
    "    size = len(unordered_list)\n",
    "\n",
    "    # if the list empty or contains one member returns the same list\n",
    "    if size <= 1:\n",
    "        return unordered_list\n",
    "\n",
    "    ordered_list = list()\n",
    "\n",
    "    while len(unordered_list):\n",
    "        minimal_value = unordered_list.pop(find_min_value_index(unordered_list))\n",
    "        ordered_list.append(minimal_value)\n",
    "\n",
    "    return ordered_list\n",
    "\n",
    "\n",
    "list_of_numbers = [5, 2, 4, 6, 1, 3]\n",
    "log(f\"Unordered list: {list_of_numbers}\")\n",
    "\n",
    "ordered_list = sort_selection(list_of_numbers)\n",
    "log(f\"Ordered list: {ordered_list}\")"
   ],
   "metadata": {
    "collapsed": false
   }
  }
 ],
 "metadata": {
  "kernelspec": {
   "display_name": "Python 3",
   "language": "python",
   "name": "python3"
  },
  "language_info": {
   "codemirror_mode": {
    "name": "ipython",
    "version": 2
   },
   "file_extension": ".py",
   "mimetype": "text/x-python",
   "name": "python",
   "nbconvert_exporter": "python",
   "pygments_lexer": "ipython2",
   "version": "2.7.6"
  }
 },
 "nbformat": 4,
 "nbformat_minor": 0
}
